{
 "cells": [
  {
   "cell_type": "code",
   "execution_count": 17,
   "metadata": {},
   "outputs": [],
   "source": [
    "import torch\n",
    "import torch.backends.cudnn as cudnn\n",
    "from torch.utils.data import DataLoader\n",
    "\n",
    "import random\n",
    "import numpy as np\n",
    "import time\n",
    "\n",
    "from dataset import MonuSegDataSet, MonuSegValDataSet\n",
    "from auxilary.utils import readConfig\n",
    "\n",
    "from networkModules.probUNet.probabilistic_unet import ProbabilisticUnet\n",
    "from networkModules.probUNet.utils import l2_regularisation"
   ]
  },
  {
   "cell_type": "code",
   "execution_count": 18,
   "metadata": {},
   "outputs": [],
   "source": [
    "# Set seed\n",
    "torch.manual_seed(0)\n",
    "torch.cuda.manual_seed(0)\n",
    "torch.cuda.manual_seed_all(0)\n",
    "np.random.seed(0)\n",
    "cudnn.benchmark = False\n",
    "cudnn.deterministic = True\n",
    "random.seed(0)\n",
    "torch.set_grad_enabled(True)\n",
    "start_time = time.time()"
   ]
  },
  {
   "cell_type": "code",
   "execution_count": 19,
   "metadata": {},
   "outputs": [],
   "source": [
    "# Read configFile\n",
    "config = readConfig('config.sys')"
   ]
  },
  {
   "cell_type": "code",
   "execution_count": 20,
   "metadata": {},
   "outputs": [
    {
     "name": "stdout",
     "output_type": "stream",
     "text": [
      "Using cuda device\n"
     ]
    }
   ],
   "source": [
    "device = \"cuda\" if torch.cuda.is_available() else \"cpu\"\n",
    "print(f\"Using {device} device\")"
   ]
  },
  {
   "cell_type": "code",
   "execution_count": 21,
   "metadata": {},
   "outputs": [
    {
     "name": "stdout",
     "output_type": "stream",
     "text": [
      "configuring data loaders\n"
     ]
    }
   ],
   "source": [
    "print('configuring data loaders')\n",
    "train_dataset = MonuSegDataSet(config[\"trainDataset\"], config)\n",
    "train_data = DataLoader(train_dataset,batch_size=config[\"batch_size\"],shuffle=True)\n",
    "val_dataset = MonuSegValDataSet(config[\"valDataset\"], config)\n",
    "val_data = DataLoader(val_dataset,batch_size=1,num_workers=4)"
   ]
  },
  {
   "cell_type": "code",
   "execution_count": 22,
   "metadata": {},
   "outputs": [],
   "source": [
    "no_channels = 3\n",
    "no_classes = 2\n",
    "filter_list = [32, 64, 128, 128]\n",
    "latent_dim = 2\n",
    "no_fcomb_convs = 4\n",
    "beta = 10.0\n",
    "\n",
    "epochs = 10"
   ]
  },
  {
   "cell_type": "code",
   "execution_count": 23,
   "metadata": {},
   "outputs": [
    {
     "ename": "RuntimeError",
     "evalue": "Tensors must have same number of dimensions: got 4 and 5",
     "output_type": "error",
     "traceback": [
      "\u001b[0;31m---------------------------------------------------------------------------\u001b[0m",
      "\u001b[0;31mRuntimeError\u001b[0m                              Traceback (most recent call last)",
      "\u001b[1;32m/home/blue/projects/MoNuSeg/debug4_probUnet.ipynb Cell 7\u001b[0m line \u001b[0;36m9\n\u001b[1;32m      <a href='vscode-notebook-cell://wsl%2Bubuntu/home/blue/projects/MoNuSeg/debug4_probUnet.ipynb#W5sdnNjb2RlLXJlbW90ZQ%3D%3D?line=6'>7</a>\u001b[0m mask \u001b[39m=\u001b[39m mask\u001b[39m.\u001b[39mto(device)\n\u001b[1;32m      <a href='vscode-notebook-cell://wsl%2Bubuntu/home/blue/projects/MoNuSeg/debug4_probUnet.ipynb#W5sdnNjb2RlLXJlbW90ZQ%3D%3D?line=7'>8</a>\u001b[0m mask \u001b[39m=\u001b[39m torch\u001b[39m.\u001b[39munsqueeze(mask,\u001b[39m1\u001b[39m)\n\u001b[0;32m----> <a href='vscode-notebook-cell://wsl%2Bubuntu/home/blue/projects/MoNuSeg/debug4_probUnet.ipynb#W5sdnNjb2RlLXJlbW90ZQ%3D%3D?line=8'>9</a>\u001b[0m net\u001b[39m.\u001b[39;49mforward(patch, mask, training\u001b[39m=\u001b[39;49m\u001b[39mTrue\u001b[39;49;00m)\n\u001b[1;32m     <a href='vscode-notebook-cell://wsl%2Bubuntu/home/blue/projects/MoNuSeg/debug4_probUnet.ipynb#W5sdnNjb2RlLXJlbW90ZQ%3D%3D?line=9'>10</a>\u001b[0m elbo \u001b[39m=\u001b[39m net\u001b[39m.\u001b[39melbo(mask)\n\u001b[1;32m     <a href='vscode-notebook-cell://wsl%2Bubuntu/home/blue/projects/MoNuSeg/debug4_probUnet.ipynb#W5sdnNjb2RlLXJlbW90ZQ%3D%3D?line=10'>11</a>\u001b[0m reg_loss \u001b[39m=\u001b[39m l2_regularisation(net\u001b[39m.\u001b[39mposterior) \u001b[39m+\u001b[39m l2_regularisation(net\u001b[39m.\u001b[39mprior) \u001b[39m+\u001b[39m l2_regularisation(net\u001b[39m.\u001b[39mfcomb\u001b[39m.\u001b[39mlayers)\n",
      "File \u001b[0;32m~/projects/MoNuSeg/networkModules/probUNet/probabilistic_unet.py:213\u001b[0m, in \u001b[0;36mProbabilisticUnet.forward\u001b[0;34m(self, patch, segm, training)\u001b[0m\n\u001b[1;32m    208\u001b[0m \u001b[39m\u001b[39m\u001b[39m\"\"\"\u001b[39;00m\n\u001b[1;32m    209\u001b[0m \u001b[39mConstruct prior latent space for patch and run patch through UNet,\u001b[39;00m\n\u001b[1;32m    210\u001b[0m \u001b[39min case training is True also construct posterior latent space\u001b[39;00m\n\u001b[1;32m    211\u001b[0m \u001b[39m\"\"\"\u001b[39;00m\n\u001b[1;32m    212\u001b[0m \u001b[39mif\u001b[39;00m training:\n\u001b[0;32m--> 213\u001b[0m     \u001b[39mself\u001b[39m\u001b[39m.\u001b[39mposterior_latent_space \u001b[39m=\u001b[39m \u001b[39mself\u001b[39;49m\u001b[39m.\u001b[39;49mposterior\u001b[39m.\u001b[39;49mforward(patch, segm)\n\u001b[1;32m    214\u001b[0m \u001b[39mself\u001b[39m\u001b[39m.\u001b[39mprior_latent_space \u001b[39m=\u001b[39m \u001b[39mself\u001b[39m\u001b[39m.\u001b[39mprior\u001b[39m.\u001b[39mforward(patch)\n\u001b[1;32m    215\u001b[0m \u001b[39mself\u001b[39m\u001b[39m.\u001b[39munet_features \u001b[39m=\u001b[39m \u001b[39mself\u001b[39m\u001b[39m.\u001b[39munet\u001b[39m.\u001b[39mforward(patch,\u001b[39mFalse\u001b[39;00m)\n",
      "File \u001b[0;32m~/projects/MoNuSeg/networkModules/probUNet/probabilistic_unet.py:86\u001b[0m, in \u001b[0;36mAxisAlignedConvGaussian.forward\u001b[0;34m(self, input, segm)\u001b[0m\n\u001b[1;32m     84\u001b[0m \u001b[39mself\u001b[39m\u001b[39m.\u001b[39mshow_img \u001b[39m=\u001b[39m \u001b[39minput\u001b[39m\n\u001b[1;32m     85\u001b[0m \u001b[39mself\u001b[39m\u001b[39m.\u001b[39mshow_seg \u001b[39m=\u001b[39m segm\n\u001b[0;32m---> 86\u001b[0m \u001b[39minput\u001b[39m \u001b[39m=\u001b[39m torch\u001b[39m.\u001b[39;49mcat((\u001b[39minput\u001b[39;49m, segm), dim\u001b[39m=\u001b[39;49m\u001b[39m1\u001b[39;49m)\n\u001b[1;32m     87\u001b[0m \u001b[39mself\u001b[39m\u001b[39m.\u001b[39mshow_concat \u001b[39m=\u001b[39m \u001b[39minput\u001b[39m\n\u001b[1;32m     88\u001b[0m \u001b[39mself\u001b[39m\u001b[39m.\u001b[39msum_input \u001b[39m=\u001b[39m torch\u001b[39m.\u001b[39msum(\u001b[39minput\u001b[39m)\n",
      "\u001b[0;31mRuntimeError\u001b[0m: Tensors must have same number of dimensions: got 4 and 5"
     ]
    }
   ],
   "source": [
    "net = ProbabilisticUnet(no_channels,no_classes,filter_list,latent_dim,no_fcomb_convs,beta)\n",
    "net.to(device)\n",
    "optimizer = torch.optim.Adam(net.parameters(), lr=1e-4, weight_decay=0)\n",
    "for epoch in range(epochs):\n",
    "    for step, (patch, mask) in enumerate(train_data): \n",
    "        patch = patch.to(device)\n",
    "        mask = mask.to(device)\n",
    "        mask = torch.unsqueeze(mask,1)\n",
    "        net.forward(patch, mask, training=True)\n",
    "        elbo = net.elbo(mask)\n",
    "        reg_loss = l2_regularisation(net.posterior) + l2_regularisation(net.prior) + l2_regularisation(net.fcomb.layers)\n",
    "        loss = -elbo + 1e-5 * reg_loss\n",
    "        optimizer.zero_grad()\n",
    "        loss.backward()\n",
    "        optimizer.step()"
   ]
  },
  {
   "cell_type": "code",
   "execution_count": null,
   "metadata": {},
   "outputs": [],
   "source": []
  }
 ],
 "metadata": {
  "kernelspec": {
   "display_name": "monuSegEnv",
   "language": "python",
   "name": "python3"
  },
  "language_info": {
   "codemirror_mode": {
    "name": "ipython",
    "version": 3
   },
   "file_extension": ".py",
   "mimetype": "text/x-python",
   "name": "python",
   "nbconvert_exporter": "python",
   "pygments_lexer": "ipython3",
   "version": "3.10.9"
  }
 },
 "nbformat": 4,
 "nbformat_minor": 2
}
