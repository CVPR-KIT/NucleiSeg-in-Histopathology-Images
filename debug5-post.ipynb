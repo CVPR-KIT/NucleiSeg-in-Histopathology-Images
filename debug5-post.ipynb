{
 "cells": [
  {
   "cell_type": "code",
   "execution_count": 1,
   "metadata": {},
   "outputs": [],
   "source": [
    "import cv2\n",
    "import numpy as np"
   ]
  },
  {
   "cell_type": "code",
   "execution_count": 2,
   "metadata": {},
   "outputs": [],
   "source": [
    "\n",
    "\n",
    "def post_process(model_output, min_area=100):\n",
    "    \"\"\"\n",
    "    Post-processes the model output to remove tiny objects and fill holes.\n",
    "    \n",
    "    Parameters:\n",
    "    - model_output: np.ndarray, binary image output from the model\n",
    "    - min_area: int, minimum area of the object to be considered valid\n",
    "    \n",
    "    Returns:\n",
    "    - post_processed_img: np.ndarray, post-processed image\n",
    "    \"\"\"\n",
    "    \n",
    "    # Step 1: Remove small objects\n",
    "    contours, _ = cv2.findContours(model_output, cv2.RETR_EXTERNAL, cv2.CHAIN_APPROX_SIMPLE)\n",
    "    for cnt in contours:\n",
    "        area = cv2.contourArea(cnt)\n",
    "        if area < min_area:\n",
    "            cv2.drawContours(model_output, [cnt], 0, 0, -1)\n",
    "    \n",
    "    # Step 2: Fill holes\n",
    "    kernel = np.ones((5, 5), np.uint8)\n",
    "    post_processed_img = cv2.morphologyEx(model_output, cv2.MORPH_CLOSE, kernel)\n",
    "    \n",
    "    return post_processed_img\n",
    "\n"
   ]
  },
  {
   "cell_type": "code",
   "execution_count": 7,
   "metadata": {},
   "outputs": [],
   "source": [
    "# Load the predicted image (Replace 'predicted_image.png' with your actual file path)\n",
    "predicted_img_path = 'Outputs/experiment_09-18_05.12.17/inference/testData/3_0.928_predict.png'\n",
    "predicted_img = cv2.imread(predicted_img_path, cv2.IMREAD_GRAYSCALE)\n",
    "\n"
   ]
  },
  {
   "cell_type": "code",
   "execution_count": 8,
   "metadata": {},
   "outputs": [
    {
     "data": {
      "text/plain": [
       "'    output_img_path = \\'post_processed_image.png\\'\\n    cv2.imwrite(output_img_path, post_processed_img)\\n    \\n    print(f\"Post-processed image saved at {output_img_path}\")\\nelse:\\n    print(\"Failed to load the predicted image.\")\\n'"
      ]
     },
     "execution_count": 8,
     "metadata": {},
     "output_type": "execute_result"
    }
   ],
   "source": [
    "# Check if the image has been successfully loaded\n",
    "if predicted_img is not None:\n",
    "    # Post-process the image\n",
    "    post_processed_img = post_process(predicted_img)\n",
    "    cv2.imwrite(\"post.png\", post_processed_img)\n",
    "\n",
    "    # Save the post-processed image (Replace 'post_processed_image.png' with your desired output file path)\n",
    "'''    output_img_path = 'post_processed_image.png'\n",
    "    cv2.imwrite(output_img_path, post_processed_img)\n",
    "    \n",
    "    print(f\"Post-processed image saved at {output_img_path}\")\n",
    "else:\n",
    "    print(\"Failed to load the predicted image.\")\n",
    "'''"
   ]
  },
  {
   "cell_type": "code",
   "execution_count": null,
   "metadata": {},
   "outputs": [],
   "source": []
  }
 ],
 "metadata": {
  "kernelspec": {
   "display_name": "monuSegEnv",
   "language": "python",
   "name": "python3"
  },
  "language_info": {
   "codemirror_mode": {
    "name": "ipython",
    "version": 3
   },
   "file_extension": ".py",
   "mimetype": "text/x-python",
   "name": "python",
   "nbconvert_exporter": "python",
   "pygments_lexer": "ipython3",
   "version": "3.10.9"
  }
 },
 "nbformat": 4,
 "nbformat_minor": 2
}
