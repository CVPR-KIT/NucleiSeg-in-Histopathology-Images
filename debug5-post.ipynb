{
 "cells": [
  {
   "cell_type": "code",
   "execution_count": 1,
   "metadata": {},
   "outputs": [],
   "source": [
    "import cv2\n",
    "import numpy as np"
   ]
  },
  {
   "cell_type": "code",
   "execution_count": 2,
   "metadata": {},
   "outputs": [],
   "source": [
    "\n",
    "\n",
    "def post_process(model_output, min_area=100):\n",
    "    \"\"\"\n",
    "    Post-processes the model output to remove tiny objects and fill holes.\n",
    "    \n",
    "    Parameters:\n",
    "    - model_output: np.ndarray, binary image output from the model\n",
    "    - min_area: int, minimum area of the object to be considered valid\n",
    "    \n",
    "    Returns:\n",
    "    - post_processed_img: np.ndarray, post-processed image\n",
    "    \"\"\"\n",
    "    \n",
    "    # Step 1: Remove small objects\n",
    "    contours, _ = cv2.findContours(model_output, cv2.RETR_EXTERNAL, cv2.CHAIN_APPROX_SIMPLE)\n",
    "    for cnt in contours:\n",
    "        area = cv2.contourArea(cnt)\n",
    "        if area < min_area:\n",
    "            cv2.drawContours(model_output, [cnt], 0, 0, -1)\n",
    "    \n",
    "    # Step 2: Fill holes\n",
    "    kernel = np.ones((5, 5), np.uint8)\n",
    "    post_processed_img = cv2.morphologyEx(model_output, cv2.MORPH_CLOSE, kernel)\n",
    "    \n",
    "    return post_processed_img\n",
    "\n"
   ]
  },
  {
   "cell_type": "code",
   "execution_count": 3,
   "metadata": {},
   "outputs": [],
   "source": [
    "# Load the predicted image (Replace 'predicted_image.png' with your actual file path)\n",
    "predicted_img_path = 'Outputs/experiment_11-08_05.36.17/inference/testData/0_0.866_predict.png'\n",
    "predicted_img = cv2.imread(predicted_img_path, cv2.IMREAD_GRAYSCALE)\n",
    "\n"
   ]
  },
  {
   "cell_type": "code",
   "execution_count": 4,
   "metadata": {},
   "outputs": [
    {
     "data": {
      "text/plain": [
       "'    output_img_path = \\'post_processed_image.png\\'\\n    cv2.imwrite(output_img_path, post_processed_img)\\n    \\n    print(f\"Post-processed image saved at {output_img_path}\")\\nelse:\\n    print(\"Failed to load the predicted image.\")\\n'"
      ]
     },
     "execution_count": 4,
     "metadata": {},
     "output_type": "execute_result"
    }
   ],
   "source": [
    "# Check if the image has been successfully loaded\n",
    "if predicted_img is not None:\n",
    "    # Post-process the image\n",
    "    post_processed_img = post_process(predicted_img)\n",
    "    cv2.imwrite(\"post.png\", post_processed_img)\n",
    "\n",
    "    # Save the post-processed image (Replace 'post_processed_image.png' with your desired output file path)\n",
    "'''    output_img_path = 'post_processed_image.png'\n",
    "    cv2.imwrite(output_img_path, post_processed_img)\n",
    "    \n",
    "    print(f\"Post-processed image saved at {output_img_path}\")\n",
    "else:\n",
    "    print(\"Failed to load the predicted image.\")\n",
    "'''"
   ]
  },
  {
   "cell_type": "code",
   "execution_count": 4,
   "metadata": {},
   "outputs": [],
   "source": [
    "import torch\n",
    "from networkModules.modelUnet3pShort import UNet_3PlusShort\n",
    "import json"
   ]
  },
  {
   "cell_type": "code",
   "execution_count": 5,
   "metadata": {},
   "outputs": [],
   "source": [
    "config = json.load(open(\"Outputs/experiment_12-07_23.25.56/config.json\"))\n",
    "model = UNet_3PlusShort(config)"
   ]
  },
  {
   "cell_type": "code",
   "execution_count": 6,
   "metadata": {},
   "outputs": [
    {
     "ename": "RuntimeError",
     "evalue": "Error(s) in loading state_dict for UNet_3PlusShort:\n\tUnexpected key(s) in state_dict: \"conv5.conv1.0.weight\", \"conv5.conv1.0.bias\", \"conv5.conv1.1.weight\", \"conv5.conv1.1.bias\", \"conv5.conv1.1.running_mean\", \"conv5.conv1.1.running_var\", \"conv5.conv1.1.num_batches_tracked\", \"conv5.conv2.0.weight\", \"conv5.conv2.0.bias\", \"conv5.conv2.1.weight\", \"conv5.conv2.1.bias\", \"conv5.conv2.1.running_mean\", \"conv5.conv2.1.running_var\", \"conv5.conv2.1.num_batches_tracked\", \"hd5_UT_hd4_conv.weight\", \"hd5_UT_hd4_conv.bias\", \"hd5_UT_hd4_bn.weight\", \"hd5_UT_hd4_bn.bias\", \"hd5_UT_hd4_bn.running_mean\", \"hd5_UT_hd4_bn.running_var\", \"hd5_UT_hd4_bn.num_batches_tracked\", \"hd5_UT_hd3_conv.weight\", \"hd5_UT_hd3_conv.bias\", \"hd5_UT_hd3_bn.weight\", \"hd5_UT_hd3_bn.bias\", \"hd5_UT_hd3_bn.running_mean\", \"hd5_UT_hd3_bn.running_var\", \"hd5_UT_hd3_bn.num_batches_tracked\", \"hd5_UT_hd2_conv.weight\", \"hd5_UT_hd2_conv.bias\", \"hd5_UT_hd2_bn.weight\", \"hd5_UT_hd2_bn.bias\", \"hd5_UT_hd2_bn.running_mean\", \"hd5_UT_hd2_bn.running_var\", \"hd5_UT_hd2_bn.num_batches_tracked\", \"hd5_UT_hd1_conv.weight\", \"hd5_UT_hd1_conv.bias\", \"hd5_UT_hd1_bn.weight\", \"hd5_UT_hd1_bn.bias\", \"hd5_UT_hd1_bn.running_mean\", \"hd5_UT_hd1_bn.running_var\", \"hd5_UT_hd1_bn.num_batches_tracked\". \n\tsize mismatch for conv1.conv1.0.weight: copying a param with shape torch.Size([32, 3, 3, 3]) from checkpoint, the shape in current model is torch.Size([64, 3, 3, 3]).\n\tsize mismatch for conv1.conv1.0.bias: copying a param with shape torch.Size([32]) from checkpoint, the shape in current model is torch.Size([64]).\n\tsize mismatch for conv1.conv1.1.weight: copying a param with shape torch.Size([32]) from checkpoint, the shape in current model is torch.Size([64]).\n\tsize mismatch for conv1.conv1.1.bias: copying a param with shape torch.Size([32]) from checkpoint, the shape in current model is torch.Size([64]).\n\tsize mismatch for conv1.conv1.1.running_mean: copying a param with shape torch.Size([32]) from checkpoint, the shape in current model is torch.Size([64]).\n\tsize mismatch for conv1.conv1.1.running_var: copying a param with shape torch.Size([32]) from checkpoint, the shape in current model is torch.Size([64]).\n\tsize mismatch for conv1.conv2.0.weight: copying a param with shape torch.Size([32, 32, 3, 3]) from checkpoint, the shape in current model is torch.Size([64, 32, 3, 3]).\n\tsize mismatch for conv1.conv2.0.bias: copying a param with shape torch.Size([32]) from checkpoint, the shape in current model is torch.Size([64]).\n\tsize mismatch for conv1.conv2.1.weight: copying a param with shape torch.Size([32]) from checkpoint, the shape in current model is torch.Size([64]).\n\tsize mismatch for conv1.conv2.1.bias: copying a param with shape torch.Size([32]) from checkpoint, the shape in current model is torch.Size([64]).\n\tsize mismatch for conv1.conv2.1.running_mean: copying a param with shape torch.Size([32]) from checkpoint, the shape in current model is torch.Size([64]).\n\tsize mismatch for conv1.conv2.1.running_var: copying a param with shape torch.Size([32]) from checkpoint, the shape in current model is torch.Size([64]).\n\tsize mismatch for conv2.conv1.0.weight: copying a param with shape torch.Size([64, 32, 3, 3]) from checkpoint, the shape in current model is torch.Size([128, 32, 3, 3]).\n\tsize mismatch for conv2.conv1.0.bias: copying a param with shape torch.Size([64]) from checkpoint, the shape in current model is torch.Size([128]).\n\tsize mismatch for conv2.conv1.1.weight: copying a param with shape torch.Size([64]) from checkpoint, the shape in current model is torch.Size([128]).\n\tsize mismatch for conv2.conv1.1.bias: copying a param with shape torch.Size([64]) from checkpoint, the shape in current model is torch.Size([128]).\n\tsize mismatch for conv2.conv1.1.running_mean: copying a param with shape torch.Size([64]) from checkpoint, the shape in current model is torch.Size([128]).\n\tsize mismatch for conv2.conv1.1.running_var: copying a param with shape torch.Size([64]) from checkpoint, the shape in current model is torch.Size([128]).\n\tsize mismatch for conv2.conv2.0.weight: copying a param with shape torch.Size([64, 64, 3, 3]) from checkpoint, the shape in current model is torch.Size([128, 64, 3, 3]).\n\tsize mismatch for conv2.conv2.0.bias: copying a param with shape torch.Size([64]) from checkpoint, the shape in current model is torch.Size([128]).\n\tsize mismatch for conv2.conv2.1.weight: copying a param with shape torch.Size([64]) from checkpoint, the shape in current model is torch.Size([128]).\n\tsize mismatch for conv2.conv2.1.bias: copying a param with shape torch.Size([64]) from checkpoint, the shape in current model is torch.Size([128]).\n\tsize mismatch for conv2.conv2.1.running_mean: copying a param with shape torch.Size([64]) from checkpoint, the shape in current model is torch.Size([128]).\n\tsize mismatch for conv2.conv2.1.running_var: copying a param with shape torch.Size([64]) from checkpoint, the shape in current model is torch.Size([128]).\n\tsize mismatch for conv3.conv1.0.weight: copying a param with shape torch.Size([128, 64, 3, 3]) from checkpoint, the shape in current model is torch.Size([256, 64, 3, 3]).\n\tsize mismatch for conv3.conv1.0.bias: copying a param with shape torch.Size([128]) from checkpoint, the shape in current model is torch.Size([256]).\n\tsize mismatch for conv3.conv1.1.weight: copying a param with shape torch.Size([128]) from checkpoint, the shape in current model is torch.Size([256]).\n\tsize mismatch for conv3.conv1.1.bias: copying a param with shape torch.Size([128]) from checkpoint, the shape in current model is torch.Size([256]).\n\tsize mismatch for conv3.conv1.1.running_mean: copying a param with shape torch.Size([128]) from checkpoint, the shape in current model is torch.Size([256]).\n\tsize mismatch for conv3.conv1.1.running_var: copying a param with shape torch.Size([128]) from checkpoint, the shape in current model is torch.Size([256]).\n\tsize mismatch for conv3.conv2.0.weight: copying a param with shape torch.Size([128, 128, 3, 3]) from checkpoint, the shape in current model is torch.Size([256, 128, 3, 3]).\n\tsize mismatch for conv3.conv2.0.bias: copying a param with shape torch.Size([128]) from checkpoint, the shape in current model is torch.Size([256]).\n\tsize mismatch for conv3.conv2.1.weight: copying a param with shape torch.Size([128]) from checkpoint, the shape in current model is torch.Size([256]).\n\tsize mismatch for conv3.conv2.1.bias: copying a param with shape torch.Size([128]) from checkpoint, the shape in current model is torch.Size([256]).\n\tsize mismatch for conv3.conv2.1.running_mean: copying a param with shape torch.Size([128]) from checkpoint, the shape in current model is torch.Size([256]).\n\tsize mismatch for conv3.conv2.1.running_var: copying a param with shape torch.Size([128]) from checkpoint, the shape in current model is torch.Size([256]).\n\tsize mismatch for conv4.conv2.0.weight: copying a param with shape torch.Size([256, 256, 3, 3]) from checkpoint, the shape in current model is torch.Size([256, 128, 3, 3]).\n\tsize mismatch for h4_Cat_hd4_conv.weight: copying a param with shape torch.Size([32, 256, 3, 3]) from checkpoint, the shape in current model is torch.Size([32, 128, 3, 3]).\n\tsize mismatch for conv4d_1.weight: copying a param with shape torch.Size([160, 160, 3, 3]) from checkpoint, the shape in current model is torch.Size([128, 128, 3, 3]).\n\tsize mismatch for conv4d_1.bias: copying a param with shape torch.Size([160]) from checkpoint, the shape in current model is torch.Size([128]).\n\tsize mismatch for bn4d_1.weight: copying a param with shape torch.Size([160]) from checkpoint, the shape in current model is torch.Size([128]).\n\tsize mismatch for bn4d_1.bias: copying a param with shape torch.Size([160]) from checkpoint, the shape in current model is torch.Size([128]).\n\tsize mismatch for bn4d_1.running_mean: copying a param with shape torch.Size([160]) from checkpoint, the shape in current model is torch.Size([128]).\n\tsize mismatch for bn4d_1.running_var: copying a param with shape torch.Size([160]) from checkpoint, the shape in current model is torch.Size([128]).\n\tsize mismatch for hd4_UT_hd3_conv.weight: copying a param with shape torch.Size([32, 160, 3, 3]) from checkpoint, the shape in current model is torch.Size([32, 128, 3, 3]).\n\tsize mismatch for conv3d_1.weight: copying a param with shape torch.Size([160, 160, 3, 3]) from checkpoint, the shape in current model is torch.Size([128, 128, 3, 3]).\n\tsize mismatch for conv3d_1.bias: copying a param with shape torch.Size([160]) from checkpoint, the shape in current model is torch.Size([128]).\n\tsize mismatch for bn3d_1.weight: copying a param with shape torch.Size([160]) from checkpoint, the shape in current model is torch.Size([128]).\n\tsize mismatch for bn3d_1.bias: copying a param with shape torch.Size([160]) from checkpoint, the shape in current model is torch.Size([128]).\n\tsize mismatch for bn3d_1.running_mean: copying a param with shape torch.Size([160]) from checkpoint, the shape in current model is torch.Size([128]).\n\tsize mismatch for bn3d_1.running_var: copying a param with shape torch.Size([160]) from checkpoint, the shape in current model is torch.Size([128]).\n\tsize mismatch for hd3_UT_hd2_conv.weight: copying a param with shape torch.Size([32, 160, 3, 3]) from checkpoint, the shape in current model is torch.Size([32, 128, 3, 3]).\n\tsize mismatch for hd4_UT_hd2_conv.weight: copying a param with shape torch.Size([32, 160, 3, 3]) from checkpoint, the shape in current model is torch.Size([32, 128, 3, 3]).\n\tsize mismatch for conv2d_1.weight: copying a param with shape torch.Size([160, 160, 3, 3]) from checkpoint, the shape in current model is torch.Size([128, 128, 3, 3]).\n\tsize mismatch for conv2d_1.bias: copying a param with shape torch.Size([160]) from checkpoint, the shape in current model is torch.Size([128]).\n\tsize mismatch for bn2d_1.weight: copying a param with shape torch.Size([160]) from checkpoint, the shape in current model is torch.Size([128]).\n\tsize mismatch for bn2d_1.bias: copying a param with shape torch.Size([160]) from checkpoint, the shape in current model is torch.Size([128]).\n\tsize mismatch for bn2d_1.running_mean: copying a param with shape torch.Size([160]) from checkpoint, the shape in current model is torch.Size([128]).\n\tsize mismatch for bn2d_1.running_var: copying a param with shape torch.Size([160]) from checkpoint, the shape in current model is torch.Size([128]).\n\tsize mismatch for hd2_UT_hd1_conv.weight: copying a param with shape torch.Size([32, 160, 3, 3]) from checkpoint, the shape in current model is torch.Size([32, 128, 3, 3]).\n\tsize mismatch for hd3_UT_hd1_conv.weight: copying a param with shape torch.Size([32, 160, 3, 3]) from checkpoint, the shape in current model is torch.Size([32, 128, 3, 3]).\n\tsize mismatch for hd4_UT_hd1_conv.weight: copying a param with shape torch.Size([32, 160, 3, 3]) from checkpoint, the shape in current model is torch.Size([32, 128, 3, 3]).\n\tsize mismatch for conv1d_1.weight: copying a param with shape torch.Size([160, 160, 3, 3]) from checkpoint, the shape in current model is torch.Size([128, 128, 3, 3]).\n\tsize mismatch for conv1d_1.bias: copying a param with shape torch.Size([160]) from checkpoint, the shape in current model is torch.Size([128]).\n\tsize mismatch for bn1d_1.weight: copying a param with shape torch.Size([160]) from checkpoint, the shape in current model is torch.Size([128]).\n\tsize mismatch for bn1d_1.bias: copying a param with shape torch.Size([160]) from checkpoint, the shape in current model is torch.Size([128]).\n\tsize mismatch for bn1d_1.running_mean: copying a param with shape torch.Size([160]) from checkpoint, the shape in current model is torch.Size([128]).\n\tsize mismatch for bn1d_1.running_var: copying a param with shape torch.Size([160]) from checkpoint, the shape in current model is torch.Size([128]).\n\tsize mismatch for outconv1.weight: copying a param with shape torch.Size([2, 160, 3, 3]) from checkpoint, the shape in current model is torch.Size([2, 128, 3, 3]).",
     "output_type": "error",
     "traceback": [
      "\u001b[0;31m---------------------------------------------------------------------------\u001b[0m",
      "\u001b[0;31mRuntimeError\u001b[0m                              Traceback (most recent call last)",
      "Cell \u001b[0;32mIn[6], line 2\u001b[0m\n\u001b[1;32m      1\u001b[0m checkpoint \u001b[38;5;241m=\u001b[39m torch\u001b[38;5;241m.\u001b[39mload(\u001b[38;5;124m\"\u001b[39m\u001b[38;5;124mOutputs/experiment_12-07_23.25.56/model/best_model.pth\u001b[39m\u001b[38;5;124m\"\u001b[39m)\n\u001b[0;32m----> 2\u001b[0m \u001b[43mmodel\u001b[49m\u001b[38;5;241;43m.\u001b[39;49m\u001b[43mload_state_dict\u001b[49m\u001b[43m(\u001b[49m\u001b[43mcheckpoint\u001b[49m\u001b[43m[\u001b[49m\u001b[38;5;124;43m'\u001b[39;49m\u001b[38;5;124;43mmodel_state_dict\u001b[39;49m\u001b[38;5;124;43m'\u001b[39;49m\u001b[43m]\u001b[49m\u001b[43m)\u001b[49m\n",
      "File \u001b[0;32m~/projects/MoNuSeg/monuSegEnv/lib/python3.10/site-packages/torch/nn/modules/module.py:2041\u001b[0m, in \u001b[0;36mModule.load_state_dict\u001b[0;34m(self, state_dict, strict)\u001b[0m\n\u001b[1;32m   2036\u001b[0m         error_msgs\u001b[38;5;241m.\u001b[39minsert(\n\u001b[1;32m   2037\u001b[0m             \u001b[38;5;241m0\u001b[39m, \u001b[38;5;124m'\u001b[39m\u001b[38;5;124mMissing key(s) in state_dict: \u001b[39m\u001b[38;5;132;01m{}\u001b[39;00m\u001b[38;5;124m. \u001b[39m\u001b[38;5;124m'\u001b[39m\u001b[38;5;241m.\u001b[39mformat(\n\u001b[1;32m   2038\u001b[0m                 \u001b[38;5;124m'\u001b[39m\u001b[38;5;124m, \u001b[39m\u001b[38;5;124m'\u001b[39m\u001b[38;5;241m.\u001b[39mjoin(\u001b[38;5;124m'\u001b[39m\u001b[38;5;124m\"\u001b[39m\u001b[38;5;132;01m{}\u001b[39;00m\u001b[38;5;124m\"\u001b[39m\u001b[38;5;124m'\u001b[39m\u001b[38;5;241m.\u001b[39mformat(k) \u001b[38;5;28;01mfor\u001b[39;00m k \u001b[38;5;129;01min\u001b[39;00m missing_keys)))\n\u001b[1;32m   2040\u001b[0m \u001b[38;5;28;01mif\u001b[39;00m \u001b[38;5;28mlen\u001b[39m(error_msgs) \u001b[38;5;241m>\u001b[39m \u001b[38;5;241m0\u001b[39m:\n\u001b[0;32m-> 2041\u001b[0m     \u001b[38;5;28;01mraise\u001b[39;00m \u001b[38;5;167;01mRuntimeError\u001b[39;00m(\u001b[38;5;124m'\u001b[39m\u001b[38;5;124mError(s) in loading state_dict for \u001b[39m\u001b[38;5;132;01m{}\u001b[39;00m\u001b[38;5;124m:\u001b[39m\u001b[38;5;130;01m\\n\u001b[39;00m\u001b[38;5;130;01m\\t\u001b[39;00m\u001b[38;5;132;01m{}\u001b[39;00m\u001b[38;5;124m'\u001b[39m\u001b[38;5;241m.\u001b[39mformat(\n\u001b[1;32m   2042\u001b[0m                        \u001b[38;5;28mself\u001b[39m\u001b[38;5;241m.\u001b[39m\u001b[38;5;18m__class__\u001b[39m\u001b[38;5;241m.\u001b[39m\u001b[38;5;18m__name__\u001b[39m, \u001b[38;5;124m\"\u001b[39m\u001b[38;5;130;01m\\n\u001b[39;00m\u001b[38;5;130;01m\\t\u001b[39;00m\u001b[38;5;124m\"\u001b[39m\u001b[38;5;241m.\u001b[39mjoin(error_msgs)))\n\u001b[1;32m   2043\u001b[0m \u001b[38;5;28;01mreturn\u001b[39;00m _IncompatibleKeys(missing_keys, unexpected_keys)\n",
      "\u001b[0;31mRuntimeError\u001b[0m: Error(s) in loading state_dict for UNet_3PlusShort:\n\tUnexpected key(s) in state_dict: \"conv5.conv1.0.weight\", \"conv5.conv1.0.bias\", \"conv5.conv1.1.weight\", \"conv5.conv1.1.bias\", \"conv5.conv1.1.running_mean\", \"conv5.conv1.1.running_var\", \"conv5.conv1.1.num_batches_tracked\", \"conv5.conv2.0.weight\", \"conv5.conv2.0.bias\", \"conv5.conv2.1.weight\", \"conv5.conv2.1.bias\", \"conv5.conv2.1.running_mean\", \"conv5.conv2.1.running_var\", \"conv5.conv2.1.num_batches_tracked\", \"hd5_UT_hd4_conv.weight\", \"hd5_UT_hd4_conv.bias\", \"hd5_UT_hd4_bn.weight\", \"hd5_UT_hd4_bn.bias\", \"hd5_UT_hd4_bn.running_mean\", \"hd5_UT_hd4_bn.running_var\", \"hd5_UT_hd4_bn.num_batches_tracked\", \"hd5_UT_hd3_conv.weight\", \"hd5_UT_hd3_conv.bias\", \"hd5_UT_hd3_bn.weight\", \"hd5_UT_hd3_bn.bias\", \"hd5_UT_hd3_bn.running_mean\", \"hd5_UT_hd3_bn.running_var\", \"hd5_UT_hd3_bn.num_batches_tracked\", \"hd5_UT_hd2_conv.weight\", \"hd5_UT_hd2_conv.bias\", \"hd5_UT_hd2_bn.weight\", \"hd5_UT_hd2_bn.bias\", \"hd5_UT_hd2_bn.running_mean\", \"hd5_UT_hd2_bn.running_var\", \"hd5_UT_hd2_bn.num_batches_tracked\", \"hd5_UT_hd1_conv.weight\", \"hd5_UT_hd1_conv.bias\", \"hd5_UT_hd1_bn.weight\", \"hd5_UT_hd1_bn.bias\", \"hd5_UT_hd1_bn.running_mean\", \"hd5_UT_hd1_bn.running_var\", \"hd5_UT_hd1_bn.num_batches_tracked\". \n\tsize mismatch for conv1.conv1.0.weight: copying a param with shape torch.Size([32, 3, 3, 3]) from checkpoint, the shape in current model is torch.Size([64, 3, 3, 3]).\n\tsize mismatch for conv1.conv1.0.bias: copying a param with shape torch.Size([32]) from checkpoint, the shape in current model is torch.Size([64]).\n\tsize mismatch for conv1.conv1.1.weight: copying a param with shape torch.Size([32]) from checkpoint, the shape in current model is torch.Size([64]).\n\tsize mismatch for conv1.conv1.1.bias: copying a param with shape torch.Size([32]) from checkpoint, the shape in current model is torch.Size([64]).\n\tsize mismatch for conv1.conv1.1.running_mean: copying a param with shape torch.Size([32]) from checkpoint, the shape in current model is torch.Size([64]).\n\tsize mismatch for conv1.conv1.1.running_var: copying a param with shape torch.Size([32]) from checkpoint, the shape in current model is torch.Size([64]).\n\tsize mismatch for conv1.conv2.0.weight: copying a param with shape torch.Size([32, 32, 3, 3]) from checkpoint, the shape in current model is torch.Size([64, 32, 3, 3]).\n\tsize mismatch for conv1.conv2.0.bias: copying a param with shape torch.Size([32]) from checkpoint, the shape in current model is torch.Size([64]).\n\tsize mismatch for conv1.conv2.1.weight: copying a param with shape torch.Size([32]) from checkpoint, the shape in current model is torch.Size([64]).\n\tsize mismatch for conv1.conv2.1.bias: copying a param with shape torch.Size([32]) from checkpoint, the shape in current model is torch.Size([64]).\n\tsize mismatch for conv1.conv2.1.running_mean: copying a param with shape torch.Size([32]) from checkpoint, the shape in current model is torch.Size([64]).\n\tsize mismatch for conv1.conv2.1.running_var: copying a param with shape torch.Size([32]) from checkpoint, the shape in current model is torch.Size([64]).\n\tsize mismatch for conv2.conv1.0.weight: copying a param with shape torch.Size([64, 32, 3, 3]) from checkpoint, the shape in current model is torch.Size([128, 32, 3, 3]).\n\tsize mismatch for conv2.conv1.0.bias: copying a param with shape torch.Size([64]) from checkpoint, the shape in current model is torch.Size([128]).\n\tsize mismatch for conv2.conv1.1.weight: copying a param with shape torch.Size([64]) from checkpoint, the shape in current model is torch.Size([128]).\n\tsize mismatch for conv2.conv1.1.bias: copying a param with shape torch.Size([64]) from checkpoint, the shape in current model is torch.Size([128]).\n\tsize mismatch for conv2.conv1.1.running_mean: copying a param with shape torch.Size([64]) from checkpoint, the shape in current model is torch.Size([128]).\n\tsize mismatch for conv2.conv1.1.running_var: copying a param with shape torch.Size([64]) from checkpoint, the shape in current model is torch.Size([128]).\n\tsize mismatch for conv2.conv2.0.weight: copying a param with shape torch.Size([64, 64, 3, 3]) from checkpoint, the shape in current model is torch.Size([128, 64, 3, 3]).\n\tsize mismatch for conv2.conv2.0.bias: copying a param with shape torch.Size([64]) from checkpoint, the shape in current model is torch.Size([128]).\n\tsize mismatch for conv2.conv2.1.weight: copying a param with shape torch.Size([64]) from checkpoint, the shape in current model is torch.Size([128]).\n\tsize mismatch for conv2.conv2.1.bias: copying a param with shape torch.Size([64]) from checkpoint, the shape in current model is torch.Size([128]).\n\tsize mismatch for conv2.conv2.1.running_mean: copying a param with shape torch.Size([64]) from checkpoint, the shape in current model is torch.Size([128]).\n\tsize mismatch for conv2.conv2.1.running_var: copying a param with shape torch.Size([64]) from checkpoint, the shape in current model is torch.Size([128]).\n\tsize mismatch for conv3.conv1.0.weight: copying a param with shape torch.Size([128, 64, 3, 3]) from checkpoint, the shape in current model is torch.Size([256, 64, 3, 3]).\n\tsize mismatch for conv3.conv1.0.bias: copying a param with shape torch.Size([128]) from checkpoint, the shape in current model is torch.Size([256]).\n\tsize mismatch for conv3.conv1.1.weight: copying a param with shape torch.Size([128]) from checkpoint, the shape in current model is torch.Size([256]).\n\tsize mismatch for conv3.conv1.1.bias: copying a param with shape torch.Size([128]) from checkpoint, the shape in current model is torch.Size([256]).\n\tsize mismatch for conv3.conv1.1.running_mean: copying a param with shape torch.Size([128]) from checkpoint, the shape in current model is torch.Size([256]).\n\tsize mismatch for conv3.conv1.1.running_var: copying a param with shape torch.Size([128]) from checkpoint, the shape in current model is torch.Size([256]).\n\tsize mismatch for conv3.conv2.0.weight: copying a param with shape torch.Size([128, 128, 3, 3]) from checkpoint, the shape in current model is torch.Size([256, 128, 3, 3]).\n\tsize mismatch for conv3.conv2.0.bias: copying a param with shape torch.Size([128]) from checkpoint, the shape in current model is torch.Size([256]).\n\tsize mismatch for conv3.conv2.1.weight: copying a param with shape torch.Size([128]) from checkpoint, the shape in current model is torch.Size([256]).\n\tsize mismatch for conv3.conv2.1.bias: copying a param with shape torch.Size([128]) from checkpoint, the shape in current model is torch.Size([256]).\n\tsize mismatch for conv3.conv2.1.running_mean: copying a param with shape torch.Size([128]) from checkpoint, the shape in current model is torch.Size([256]).\n\tsize mismatch for conv3.conv2.1.running_var: copying a param with shape torch.Size([128]) from checkpoint, the shape in current model is torch.Size([256]).\n\tsize mismatch for conv4.conv2.0.weight: copying a param with shape torch.Size([256, 256, 3, 3]) from checkpoint, the shape in current model is torch.Size([256, 128, 3, 3]).\n\tsize mismatch for h4_Cat_hd4_conv.weight: copying a param with shape torch.Size([32, 256, 3, 3]) from checkpoint, the shape in current model is torch.Size([32, 128, 3, 3]).\n\tsize mismatch for conv4d_1.weight: copying a param with shape torch.Size([160, 160, 3, 3]) from checkpoint, the shape in current model is torch.Size([128, 128, 3, 3]).\n\tsize mismatch for conv4d_1.bias: copying a param with shape torch.Size([160]) from checkpoint, the shape in current model is torch.Size([128]).\n\tsize mismatch for bn4d_1.weight: copying a param with shape torch.Size([160]) from checkpoint, the shape in current model is torch.Size([128]).\n\tsize mismatch for bn4d_1.bias: copying a param with shape torch.Size([160]) from checkpoint, the shape in current model is torch.Size([128]).\n\tsize mismatch for bn4d_1.running_mean: copying a param with shape torch.Size([160]) from checkpoint, the shape in current model is torch.Size([128]).\n\tsize mismatch for bn4d_1.running_var: copying a param with shape torch.Size([160]) from checkpoint, the shape in current model is torch.Size([128]).\n\tsize mismatch for hd4_UT_hd3_conv.weight: copying a param with shape torch.Size([32, 160, 3, 3]) from checkpoint, the shape in current model is torch.Size([32, 128, 3, 3]).\n\tsize mismatch for conv3d_1.weight: copying a param with shape torch.Size([160, 160, 3, 3]) from checkpoint, the shape in current model is torch.Size([128, 128, 3, 3]).\n\tsize mismatch for conv3d_1.bias: copying a param with shape torch.Size([160]) from checkpoint, the shape in current model is torch.Size([128]).\n\tsize mismatch for bn3d_1.weight: copying a param with shape torch.Size([160]) from checkpoint, the shape in current model is torch.Size([128]).\n\tsize mismatch for bn3d_1.bias: copying a param with shape torch.Size([160]) from checkpoint, the shape in current model is torch.Size([128]).\n\tsize mismatch for bn3d_1.running_mean: copying a param with shape torch.Size([160]) from checkpoint, the shape in current model is torch.Size([128]).\n\tsize mismatch for bn3d_1.running_var: copying a param with shape torch.Size([160]) from checkpoint, the shape in current model is torch.Size([128]).\n\tsize mismatch for hd3_UT_hd2_conv.weight: copying a param with shape torch.Size([32, 160, 3, 3]) from checkpoint, the shape in current model is torch.Size([32, 128, 3, 3]).\n\tsize mismatch for hd4_UT_hd2_conv.weight: copying a param with shape torch.Size([32, 160, 3, 3]) from checkpoint, the shape in current model is torch.Size([32, 128, 3, 3]).\n\tsize mismatch for conv2d_1.weight: copying a param with shape torch.Size([160, 160, 3, 3]) from checkpoint, the shape in current model is torch.Size([128, 128, 3, 3]).\n\tsize mismatch for conv2d_1.bias: copying a param with shape torch.Size([160]) from checkpoint, the shape in current model is torch.Size([128]).\n\tsize mismatch for bn2d_1.weight: copying a param with shape torch.Size([160]) from checkpoint, the shape in current model is torch.Size([128]).\n\tsize mismatch for bn2d_1.bias: copying a param with shape torch.Size([160]) from checkpoint, the shape in current model is torch.Size([128]).\n\tsize mismatch for bn2d_1.running_mean: copying a param with shape torch.Size([160]) from checkpoint, the shape in current model is torch.Size([128]).\n\tsize mismatch for bn2d_1.running_var: copying a param with shape torch.Size([160]) from checkpoint, the shape in current model is torch.Size([128]).\n\tsize mismatch for hd2_UT_hd1_conv.weight: copying a param with shape torch.Size([32, 160, 3, 3]) from checkpoint, the shape in current model is torch.Size([32, 128, 3, 3]).\n\tsize mismatch for hd3_UT_hd1_conv.weight: copying a param with shape torch.Size([32, 160, 3, 3]) from checkpoint, the shape in current model is torch.Size([32, 128, 3, 3]).\n\tsize mismatch for hd4_UT_hd1_conv.weight: copying a param with shape torch.Size([32, 160, 3, 3]) from checkpoint, the shape in current model is torch.Size([32, 128, 3, 3]).\n\tsize mismatch for conv1d_1.weight: copying a param with shape torch.Size([160, 160, 3, 3]) from checkpoint, the shape in current model is torch.Size([128, 128, 3, 3]).\n\tsize mismatch for conv1d_1.bias: copying a param with shape torch.Size([160]) from checkpoint, the shape in current model is torch.Size([128]).\n\tsize mismatch for bn1d_1.weight: copying a param with shape torch.Size([160]) from checkpoint, the shape in current model is torch.Size([128]).\n\tsize mismatch for bn1d_1.bias: copying a param with shape torch.Size([160]) from checkpoint, the shape in current model is torch.Size([128]).\n\tsize mismatch for bn1d_1.running_mean: copying a param with shape torch.Size([160]) from checkpoint, the shape in current model is torch.Size([128]).\n\tsize mismatch for bn1d_1.running_var: copying a param with shape torch.Size([160]) from checkpoint, the shape in current model is torch.Size([128]).\n\tsize mismatch for outconv1.weight: copying a param with shape torch.Size([2, 160, 3, 3]) from checkpoint, the shape in current model is torch.Size([2, 128, 3, 3])."
     ]
    }
   ],
   "source": [
    "checkpoint = torch.load(\"Outputs/experiment_12-07_23.25.56/model/best_model.pth\")\n",
    "model.load_state_dict(checkpoint['model_state_dict'])\n"
   ]
  },
  {
   "cell_type": "code",
   "execution_count": null,
   "metadata": {},
   "outputs": [],
   "source": []
  }
 ],
 "metadata": {
  "kernelspec": {
   "display_name": "Python 3 (ipykernel)",
   "language": "python",
   "name": "python3"
  },
  "language_info": {
   "codemirror_mode": {
    "name": "ipython",
    "version": 3
   },
   "file_extension": ".py",
   "mimetype": "text/x-python",
   "name": "python",
   "nbconvert_exporter": "python",
   "pygments_lexer": "ipython3",
   "version": "3.10.9"
  }
 },
 "nbformat": 4,
 "nbformat_minor": 2
}
